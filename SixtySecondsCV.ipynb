{
 "cells": [
  {
   "cell_type": "markdown",
   "metadata": {},
   "source": [
    "# SixtySecondsCV in a Jupyter Notebook"
   ]
  },
  {
   "cell_type": "markdown",
   "metadata": {},
   "source": [
    "================================================================"
   ]
  },
  {
   "cell_type": "markdown",
   "metadata": {},
   "source": [
    "Instructions for generating pdf from tex file with XeLaTeX"
   ]
  },
  {
   "cell_type": "markdown",
   "metadata": {},
   "source": [
    "Open a terminal from Jupyter main page"
   ]
  },
  {
   "cell_type": "markdown",
   "metadata": {},
   "source": [
    "Check the content of the font catalogue"
   ]
  },
  {
   "cell_type": "code",
   "execution_count": 1,
   "metadata": {},
   "outputs": [
    {
     "name": "stdout",
     "output_type": "stream",
     "text": [
      "/usr/share/fonts/truetype/dejavu/DejaVuSerif-Bold.ttf: DejaVu Serif:style=Bold\r\n",
      "/usr/share/fonts/truetype/dejavu/DejaVuSansMono.ttf: DejaVu Sans Mono:style=Book\r\n",
      "/usr/share/fonts/type1/texlive-fonts-recommended/putb8a.pfb: Utopia:style=Bold\r\n",
      "/usr/share/fonts/truetype/dejavu/DejaVuSans.ttf: DejaVu Sans:style=Book\r\n",
      "/usr/share/fonts/type1/texlive-fonts-recommended/putri8a.pfb: Utopia:style=Italic\r\n",
      "/usr/share/fonts/type1/texlive-fonts-recommended/pcrb8a.pfb: Courier:style=Bold\r\n",
      "/usr/share/fonts/type1/texlive-fonts-recommended/putr8a.pfb: Utopia:style=Regular\r\n",
      "/usr/share/fonts/truetype/dejavu/DejaVuSans-Bold.ttf: DejaVu Sans:style=Bold\r\n",
      "/usr/share/fonts/type1/texlive-fonts-recommended/bchb8a.pfb: Bitstream Charter:style=Bold\r\n",
      "/usr/share/fonts/truetype/dejavu/DejaVuSansMono-Bold.ttf: DejaVu Sans Mono:style=Bold\r\n",
      "/usr/share/fonts/type1/texlive-fonts-recommended/pcrr8a.pfb: Courier:style=Regular\r\n",
      "/usr/share/fonts/type1/texlive-fonts-recommended/putbi8a.pfb: Utopia:style=Bold Italic\r\n",
      "/usr/share/fonts/type1/texlive-fonts-recommended/bchbi8a.pfb: Bitstream Charter:style=Bold Italic\r\n",
      "/usr/share/fonts/type1/texlive-fonts-recommended/bchri8a.pfb: Bitstream Charter:style=Italic\r\n",
      "/usr/share/fonts/type1/texlive-fonts-recommended/pcrro8a.pfb: Courier:style=Italic\r\n",
      "/usr/share/fonts/type1/texlive-fonts-recommended/bchr8a.pfb: Bitstream Charter:style=Regular\r\n",
      "/usr/share/fonts/truetype/dejavu/DejaVuSerif.ttf: DejaVu Serif:style=Book\r\n",
      "/usr/share/fonts/type1/texlive-fonts-recommended/pcrbo8a.pfb: Courier:style=Bold Italic\r\n"
     ]
    }
   ],
   "source": [
    "#!fc-list |grep -i comprehensive\n",
    "!fc-list"
   ]
  },
  {
   "cell_type": "code",
   "execution_count": 2,
   "metadata": {},
   "outputs": [
    {
     "name": "stdout",
     "output_type": "stream",
     "text": [
      "luaotfload | db : Font names database not found, generating new one.\r\n",
      "luaotfload | db : This can take several minutes; please be patient.\r\n"
     ]
    }
   ],
   "source": [
    "!luaotfload-tool --update"
   ]
  },
  {
   "cell_type": "code",
   "execution_count": 4,
   "metadata": {},
   "outputs": [],
   "source": [
    "!fc-cache"
   ]
  },
  {
   "cell_type": "markdown",
   "metadata": {},
   "source": [
    "Run the command ```xelatex --shell-escape sixtysecondscv.tex``` from the shell prompt"
   ]
  },
  {
   "cell_type": "code",
   "execution_count": null,
   "metadata": {},
   "outputs": [],
   "source": [
    "!xelatex  --shell-escape sixtysecondscv.tex"
   ]
  },
  {
   "cell_type": "markdown",
   "metadata": {},
   "source": [
    "Alternatively run ```lualatex --shell-escape sixtysecondscv.tex``` (different output expected)"
   ]
  },
  {
   "cell_type": "code",
   "execution_count": 2,
   "metadata": {},
   "outputs": [
    {
     "name": "stdout",
     "output_type": "stream",
     "text": [
      "INFO:ipypublish:started ipypublish v0.10.10 at Thu Jun 18 13:45:51 2020\n",
      "INFO:ipypublish:logging to: /home/jovyan/converted/SixtySecondsCV.nbpub.log\n",
      "INFO:ipypublish:running for ipynb(s) at: SixtySecondsCV.ipynb\n",
      "INFO:ipypublish:with conversion configuration: latex_ipypublish_main\n",
      "INFO:nbmerge:Reading notebook\n",
      "INFO:ipypublish:finding conversion configuration: latex_ipypublish_main\n",
      "INFO:ipypublish:loading conversion configuration\n",
      "INFO:ipypublish:creating exporter\n",
      "INFO:ipypublish:creating template and loading filters\n",
      "INFO:ipypublish:creating process configuration\n",
      "INFO:ipypublish:running nbconvert\n",
      "INFO:root:splitting outputs into separate cells\n",
      "INFO:resolve_links:resolving external file paths in ipub metadata to: SixtySecondsCV.ipynb\n",
      "INFO:captions:extracting caption cells\n",
      "INFO:write-text-file:writing stream to file: /home/jovyan/converted/SixtySecondsCV.tex\n",
      "INFO:write-resource-files:writing files in resources[outputs] to: /home/jovyan/converted\n",
      "INFO:copy-resource-paths:copying files in resources[external_file_paths] to: /home/jovyan/converted/SixtySecondsCV_files\n",
      "INFO:ipypublish:process finished successfully\n"
     ]
    }
   ],
   "source": [
    "# The following command converts a Jupyter Notebook into a tex file\n",
    "!nbpublish SixtySecondsCV.ipynb # Creates a tex file under ../converted"
   ]
  },
  {
   "cell_type": "code",
   "execution_count": null,
   "metadata": {},
   "outputs": [],
   "source": [
    "# Creates a pdf file\n",
    "!nbpublish -pdf SixtySecondsCV.ipynb"
   ]
  },
  {
   "cell_type": "code",
   "execution_count": null,
   "metadata": {},
   "outputs": [],
   "source": []
  }
 ],
 "metadata": {
  "kernelspec": {
   "display_name": "Python 3",
   "language": "python",
   "name": "python3"
  },
  "language_info": {
   "codemirror_mode": {
    "name": "ipython",
    "version": 3
   },
   "file_extension": ".py",
   "mimetype": "text/x-python",
   "name": "python",
   "nbconvert_exporter": "python",
   "pygments_lexer": "ipython3",
   "version": "3.7.6"
  }
 },
 "nbformat": 4,
 "nbformat_minor": 2
}
